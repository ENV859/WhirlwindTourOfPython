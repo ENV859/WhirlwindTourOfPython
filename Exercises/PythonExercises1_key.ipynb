{
 "cells": [
  {
   "cell_type": "markdown",
   "metadata": {},
   "source": [
    "## Python Exercises\n",
    "The exercises below are organized to match [A Whirlwind Tour of Python (VanderPlas)](http://www.oreilly.com/programming/free/files/a-whirlwind-tour-of-python.pdf). Specific pages are referenced in the various sections. These are designed to run using Python 2.7.\n",
    "\n",
    "Follow the guidelines below. Where necessary replace the ellipses (`...`) with the appropriate code in the code blocks, the run the code by pressing ctrl-enter. Be sure to save your document before closing. "
   ]
  },
  {
   "cell_type": "markdown",
   "metadata": {},
   "source": [
    "### 1. A Quick Tour of Python Language Syntax  ([pp 7 - 13](http://nbviewer.jupyter.org/github/env859/WhirlwindTourOfPython/blob/master/02-Basic-Python-Syntax.ipynb))\n",
    "* Comments\n",
    "* End of line (or semicolon) terminates a statement\n",
    "* Whitespace in front of a statement (indentation) vs. within a statement\n",
    "* Parentheses in Python"
   ]
  },
  {
   "cell_type": "markdown",
   "metadata": {},
   "source": [
    "1a. Modify the code below so the first line is not run. Also change it so that the text \"height in cm\" is ignored by Python (i.e. \"commented out\")"
   ]
  },
  {
   "cell_type": "code",
   "execution_count": 1,
   "metadata": {
    "collapsed": true
   },
   "outputs": [],
   "source": [
    "#This line assigns the age and height of the student\n",
    "studentAge = 25\n",
    "studentHeight = 180 #height in cm"
   ]
  },
  {
   "cell_type": "markdown",
   "metadata": {},
   "source": [
    "1b. Modify the code below so that both statements can be run on one line."
   ]
  },
  {
   "cell_type": "code",
   "execution_count": 2,
   "metadata": {
    "collapsed": true
   },
   "outputs": [],
   "source": [
    "stateName = \"North Carolina\"; stateCapital = \"Raleigh\""
   ]
  },
  {
   "cell_type": "markdown",
   "metadata": {},
   "source": [
    "1c. Make the fewest edits possible so the code below so it runs without error."
   ]
  },
  {
   "cell_type": "code",
   "execution_count": 3,
   "metadata": {},
   "outputs": [
    {
     "name": "stdout",
     "output_type": "stream",
     "text": [
      "2\n",
      "4\n",
      "6\n",
      "8\n",
      "10\n"
     ]
    }
   ],
   "source": [
    "for i in [1,2,3,4,     5]:\n",
    " print i * 2"
   ]
  },
  {
   "cell_type": "markdown",
   "metadata": {},
   "source": [
    "1d. Add parentheses so the variable `treeCarbon` is 14"
   ]
  },
  {
   "cell_type": "code",
   "execution_count": 4,
   "metadata": {},
   "outputs": [
    {
     "name": "stdout",
     "output_type": "stream",
     "text": [
      "14\n"
     ]
    }
   ],
   "source": [
    "treeCarbon = (3 + 4) * 2\n",
    "print treeCarbon"
   ]
  },
  {
   "cell_type": "markdown",
   "metadata": {},
   "source": [
    "---\n",
    "\n",
    "### 2. Basic Python Sematics: Variables & Objects ([pp 13 - 14](http://nbviewer.jupyter.org/github/env859/WhirlwindTourOfPython/blob/master/03-Semantics-Variables.ipynb))\n",
    "* Python variables are pointers\n",
    " * Immutable vs mutable objects \n",
    "* Everything is an object"
   ]
  },
  {
   "cell_type": "markdown",
   "metadata": {},
   "source": [
    "2a. In the code block below:<br>\n",
    " \\* Assign x to the immutable number 11<br>\n",
    " \\* Assign y equal to x<br>\n",
    " \\* Re-assign x to the immutable string \"Duke University\"<br>\n",
    " \\* Print the value of y: **Did it change with x?** <br>"
   ]
  },
  {
   "cell_type": "code",
   "execution_count": 5,
   "metadata": {},
   "outputs": [
    {
     "name": "stdout",
     "output_type": "stream",
     "text": [
      "11\n"
     ]
    }
   ],
   "source": [
    "x = 11\n",
    "y = x\n",
    "x = 11\n",
    "print y"
   ]
  },
  {
   "cell_type": "markdown",
   "metadata": {},
   "source": [
    "2b. In the code block below:<br>\n",
    " \\* Assign x to the mutable list [\"apple\",\"banana\",\"cherry\"]<br>\n",
    " \\* Assign y equal to x<br>\n",
    " \\* Update x to include \"durian\"<br>\n",
    " \\* Print the value of y: **Did it change with x?** <br>"
   ]
  },
  {
   "cell_type": "code",
   "execution_count": 6,
   "metadata": {},
   "outputs": [
    {
     "name": "stdout",
     "output_type": "stream",
     "text": [
      "['apple', 'banana', 'cherry', 'durian']\n"
     ]
    }
   ],
   "source": [
    "x = [\"apple\",\"banana\",\"cherry\"]\n",
    "y = x\n",
    "x.append(\"durian\")\n",
    "print y"
   ]
  },
  {
   "cell_type": "markdown",
   "metadata": {},
   "source": [
    "2c. In the code block below:<br>\n",
    "\\* Make the first line a comment<br>\n",
    "\\* Set the variable `monty` equal to `True`<br>\n",
    "\\* Set another variable `python` equal to `1.234`<br>\n",
    "\\* Set a third variable `monty_python` equal to `python` squared<br>\n",
    "\\* print the value of `monty_python`<br>"
   ]
  },
  {
   "cell_type": "code",
   "execution_count": 7,
   "metadata": {},
   "outputs": [
    {
     "name": "stdout",
     "output_type": "stream",
     "text": [
      "1.525225\n"
     ]
    }
   ],
   "source": [
    "#Exercise 1\n",
    "monty = True\n",
    "python = 1.235\n",
    "monty_python = python ** 2\n",
    "print(monty_python)"
   ]
  },
  {
   "cell_type": "markdown",
   "metadata": {},
   "source": [
    "---\n",
    "### 3. Basic Python Semantics: Operators ([pp 14 - 24](http://nbviewer.jupyter.org/github/env859/WhirlwindTourOfPython/blob/master/04-Semantics-Operators.ipynb))\n",
    "* Arithmetic operations<br>\n",
    "* <s>Bitwise operations</s><br>\n",
    "* Assignment operations<br>\n",
    "* Comparison operations<br>\n",
    "* Boolean operations<br>\n",
    "* Identity & membership operations<br>"
   ]
  },
  {
   "cell_type": "markdown",
   "metadata": {},
   "source": [
    "3a. Write a line of code to convert degrees 31°C to Fahrenheit:\n",
    "   `T(°F) = T(°C) × 9/5 + 32`<br>*(The correct answer is 87.8)*"
   ]
  },
  {
   "cell_type": "code",
   "execution_count": 8,
   "metadata": {},
   "outputs": [
    {
     "name": "stdout",
     "output_type": "stream",
     "text": [
      "87.8\n"
     ]
    }
   ],
   "source": [
    "degC = 31\n",
    "degF = degC * 9/5.0 + 32\n",
    "print degF"
   ]
  },
  {
   "cell_type": "markdown",
   "metadata": {},
   "source": [
    "3b. Use the assignment operations (p20) to re-write lines 2 and 3 below more simply:<br>"
   ]
  },
  {
   "cell_type": "code",
   "execution_count": 9,
   "metadata": {},
   "outputs": [
    {
     "name": "stdout",
     "output_type": "stream",
     "text": [
      "2 9\n"
     ]
    }
   ],
   "source": [
    "a = 1; b = 3\n",
    "a += 1\n",
    "b **= 2\n",
    "print a, b"
   ]
  },
  {
   "cell_type": "markdown",
   "metadata": {},
   "source": [
    "3c. After setting `a` equal to 10 and `b` equal to 17, use the proper boolean operators to code the statements below..."
   ]
  },
  {
   "cell_type": "code",
   "execution_count": 10,
   "metadata": {
    "collapsed": true
   },
   "outputs": [],
   "source": [
    "a = 10\n",
    "b = 17"
   ]
  },
  {
   "cell_type": "code",
   "execution_count": 11,
   "metadata": {},
   "outputs": [
    {
     "name": "stdout",
     "output_type": "stream",
     "text": [
      "False\n"
     ]
    }
   ],
   "source": [
    "#print whether a is greater than b\n",
    "print(a > b)"
   ]
  },
  {
   "cell_type": "code",
   "execution_count": 12,
   "metadata": {},
   "outputs": [
    {
     "name": "stdout",
     "output_type": "stream",
     "text": [
      "True\n"
     ]
    }
   ],
   "source": [
    "#print whether a is between 5 and 11\n",
    "print(5 < a < 11)"
   ]
  },
  {
   "cell_type": "code",
   "execution_count": 13,
   "metadata": {},
   "outputs": [
    {
     "name": "stdout",
     "output_type": "stream",
     "text": [
      "True\n"
     ]
    }
   ],
   "source": [
    "#print whether b minus a is equal to 7\n",
    "print(b - a == 7)"
   ]
  },
  {
   "cell_type": "code",
   "execution_count": 14,
   "metadata": {},
   "outputs": [
    {
     "name": "stdout",
     "output_type": "stream",
     "text": [
      "False\n"
     ]
    }
   ],
   "source": [
    "#print whether b minus a is NOT equal to 7\n",
    "print(b - a != 7)"
   ]
  },
  {
   "cell_type": "code",
   "execution_count": 15,
   "metadata": {},
   "outputs": [
    {
     "name": "stdout",
     "output_type": "stream",
     "text": [
      "True\n"
     ]
    }
   ],
   "source": [
    "#print whether b minus a is less than or equal to 6\n",
    "print(b - a <= 7)"
   ]
  },
  {
   "cell_type": "code",
   "execution_count": 16,
   "metadata": {},
   "outputs": [
    {
     "name": "stdout",
     "output_type": "stream",
     "text": [
      "False\n"
     ]
    }
   ],
   "source": [
    "#print whether 0.1 plus 0.2 is equal to 0.3 - Note: you might not get what you expect\n",
    "print(0.1 + 0.2 == 0.3)"
   ]
  },
  {
   "cell_type": "code",
   "execution_count": 17,
   "metadata": {},
   "outputs": [
    {
     "data": {
      "text/plain": [
       "0.30000000000000004"
      ]
     },
     "execution_count": 17,
     "metadata": {},
     "output_type": "execute_result"
    }
   ],
   "source": [
    "#Regarding the above, try this:\n",
    "0.1 + 0.2"
   ]
  },
  {
   "cell_type": "markdown",
   "metadata": {},
   "source": [
    "---\n",
    "### 4. Built-In Types: Simple Values/Scalars ([pp 24 - 29](http://nbviewer.jupyter.org/github/env859/WhirlwindTourOfPython/blob/master/05-Built-in-Scalar-Types.ipynb))\n",
    "* Integers\n",
    "* Floating-points numbers\n",
    "* <s>Complex numbers</s>\n",
    "* Strings\n",
    "* \"None\"\n",
    "* Booleans"
   ]
  },
  {
   "cell_type": "markdown",
   "metadata": {},
   "source": [
    "4a. Set `x` equal to the integer value 6"
   ]
  },
  {
   "cell_type": "code",
   "execution_count": 18,
   "metadata": {
    "collapsed": true
   },
   "outputs": [],
   "source": [
    "x = 6"
   ]
  },
  {
   "cell_type": "markdown",
   "metadata": {},
   "source": [
    "4b. Set `y` equal to the *floating point* value 6"
   ]
  },
  {
   "cell_type": "code",
   "execution_count": 19,
   "metadata": {
    "collapsed": true
   },
   "outputs": [],
   "source": [
    "y = 6.0"
   ]
  },
  {
   "cell_type": "markdown",
   "metadata": {},
   "source": [
    "4c. Print x divided by 4, and then y divided by 4, and then x divided by 4.0"
   ]
  },
  {
   "cell_type": "code",
   "execution_count": 20,
   "metadata": {},
   "outputs": [
    {
     "name": "stdout",
     "output_type": "stream",
     "text": [
      "1\n",
      "1.5\n",
      "1.5\n"
     ]
    }
   ],
   "source": [
    "print x / 4\n",
    "print y / 4\n",
    "print x / 4.0"
   ]
  },
  {
   "cell_type": "markdown",
   "metadata": {},
   "source": [
    "4d. Create the following string variables, setting values as such:<br>\n",
    "  `name` -> `Amelia`<br>\n",
    "  `gender` -> `F`<br>\n",
    "  `age` -> `10`<br>\n",
    "  `team` -> `Blaze`<br>"
   ]
  },
  {
   "cell_type": "code",
   "execution_count": 21,
   "metadata": {
    "collapsed": true
   },
   "outputs": [],
   "source": [
    "name = \"Amelia\"\n",
    "gender = \"F\"\n",
    "age = 10\n",
    "team = \"Blaze\""
   ]
  },
  {
   "cell_type": "markdown",
   "metadata": {},
   "source": [
    "4e. Print the `type` of the gender variable"
   ]
  },
  {
   "cell_type": "code",
   "execution_count": 22,
   "metadata": {},
   "outputs": [
    {
     "name": "stdout",
     "output_type": "stream",
     "text": [
      "<type 'str'>\n"
     ]
    }
   ],
   "source": [
    "print type(gender)"
   ]
  },
  {
   "cell_type": "markdown",
   "metadata": {},
   "source": [
    "4f. Combine the `name` and the `age` variables to print out: `Amelia is 10 years old`"
   ]
  },
  {
   "cell_type": "code",
   "execution_count": 23,
   "metadata": {},
   "outputs": [
    {
     "name": "stdout",
     "output_type": "stream",
     "text": [
      "Amelia is 10 years old\n"
     ]
    }
   ],
   "source": [
    "print name + ' is ' + str(age) + \" years old\""
   ]
  },
  {
   "cell_type": "markdown",
   "metadata": {},
   "source": [
    "4g. Use combinations of `'` and `\"` along with Python escaping character (\"`\\`\") to print the following:<br>\n",
    " `This is a Python string`<br>\n",
    " `This is John's Python string`<br>\n",
    " `This is a string that says \"Hey!\"`<br>\n",
    " `This is John's Python string that says \"Hey!\"`<br>"
   ]
  },
  {
   "cell_type": "code",
   "execution_count": 24,
   "metadata": {},
   "outputs": [
    {
     "name": "stdout",
     "output_type": "stream",
     "text": [
      "This is a Python string\n",
      "This is John's Python string\n",
      "This is a string that says \"Hey!\"\n",
      "This is John's string that says \"Hey\"\n"
     ]
    }
   ],
   "source": [
    "print(\"This is a Python string\")\n",
    "print(\"This is John's Python string\")\n",
    "print(\"This is a string that says \\\"Hey!\\\"\")\n",
    "print(\"This is John's string that says \\\"Hey\\\"\")"
   ]
  },
  {
   "cell_type": "markdown",
   "metadata": {},
   "source": [
    "Use Python's escaping charater followed by `n`, `t`, or `r` into the following statement to write, *using just one line of code*:<br>\n",
    "`this is one line,` <br> `and this is another`"
   ]
  },
  {
   "cell_type": "code",
   "execution_count": 25,
   "metadata": {},
   "outputs": [
    {
     "name": "stdout",
     "output_type": "stream",
     "text": [
      "this is one line,\n",
      "and this is another\n"
     ]
    }
   ],
   "source": [
    "print(\"this is one line,\\nand this is another\")"
   ]
  },
  {
   "cell_type": "markdown",
   "metadata": {},
   "source": [
    "4h. Set the variable `x` to the `None` object. Then use a Boolean operator to see whether `x` is equal to `None`. Finally use the identity operator `is`(p. 23) to check whether `x` *is* `None`."
   ]
  },
  {
   "cell_type": "code",
   "execution_count": 27,
   "metadata": {},
   "outputs": [
    {
     "name": "stdout",
     "output_type": "stream",
     "text": [
      "True\n",
      "True\n"
     ]
    }
   ],
   "source": [
    "x = \"Python is neat-o\"\n",
    "x = None\n",
    "print x == None\n",
    "print x is None"
   ]
  }
 ],
 "metadata": {
  "kernelspec": {
   "display_name": "Python 2",
   "language": "python",
   "name": "python2"
  },
  "language_info": {
   "codemirror_mode": {
    "name": "ipython",
    "version": 2
   },
   "file_extension": ".py",
   "mimetype": "text/x-python",
   "name": "python",
   "nbconvert_exporter": "python",
   "pygments_lexer": "ipython2",
   "version": "2.7.13"
  }
 },
 "nbformat": 4,
 "nbformat_minor": 2
}
