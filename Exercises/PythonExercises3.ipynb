{
 "cells": [
  {
   "cell_type": "markdown",
   "metadata": {},
   "source": [
    "### Python Exercises - Session 3\n",
    "The exercises below are organized to match [A Whirlwind Tour of Python (VanderPlas)](http://www.oreilly.com/programming/free/files/a-whirlwind-tour-of-python.pdf). Specific pages are referenced in the various sections. These are designed to run using Python 2.7 but should also work in Python 3.5.\n",
    "\n",
    "Follow the guidelines below. Where necessary replace the ellipses (`...`) with the appropriate code in the code blocks, the run the code by pressing ctrl-enter. Be sure to save your document before closing. "
   ]
  },
  {
   "cell_type": "markdown",
   "metadata": {},
   "source": [
    "---\n",
    "### 1. Control Flow ([pp 37 - 41](http://nbviewer.jupyter.org/github/env859/WhirlwindTourOfPython/blob/master/07-Control-Flow-Statements.ipynb))\n",
    "* Conditional statements: if, elif, else\n",
    "* for loops\n",
    "* while loops\n",
    "* break and continue"
   ]
  },
  {
   "cell_type": "markdown",
   "metadata": {},
   "source": [
    "1.1 Write code that check whether the value of the `age` variable is less than 35, and if so prints the message \"`You can't run for president for X more years`\", with X being the difference between `age` and 35."
   ]
  },
  {
   "cell_type": "code",
   "execution_count": null,
   "metadata": {
    "collapsed": true
   },
   "outputs": [],
   "source": [
    "age = 20\n",
    "if..."
   ]
  },
  {
   "cell_type": "markdown",
   "metadata": {},
   "source": [
    "1.2 Write code that checks whether the `age` provided is equal to 35. If it is, print \"`You got it!`\". Otherwise, print a message whether the value is too high or two low."
   ]
  },
  {
   "cell_type": "code",
   "execution_count": null,
   "metadata": {
    "collapsed": true
   },
   "outputs": [],
   "source": [
    "age = 20\n",
    "if ...\n",
    "elif ...\n",
    "else ..."
   ]
  },
  {
   "cell_type": "markdown",
   "metadata": {},
   "source": [
    "1.3 Write code that creates a list of fruit and then prints each item individually using a `for` loop."
   ]
  },
  {
   "cell_type": "code",
   "execution_count": null,
   "metadata": {
    "collapsed": true
   },
   "outputs": [],
   "source": [
    "fruitList = [\"apples\",\"cherries\",\"grapes\",\"bananas\"]\n",
    "for..."
   ]
  },
  {
   "cell_type": "markdown",
   "metadata": {},
   "source": [
    "1.4 Write code that combines a `for` loop with the `range()` function to print *even* numbers 200 thru 220."
   ]
  },
  {
   "cell_type": "code",
   "execution_count": null,
   "metadata": {
    "collapsed": true
   },
   "outputs": [],
   "source": [
    "for..."
   ]
  },
  {
   "cell_type": "markdown",
   "metadata": {},
   "source": [
    "1.5 Write a while loop that counts backwards from 10 and stops at 3"
   ]
  },
  {
   "cell_type": "code",
   "execution_count": null,
   "metadata": {
    "collapsed": true
   },
   "outputs": [],
   "source": [
    "startNumber = 10\n",
    "stopNumber = 3\n",
    "while ..."
   ]
  },
  {
   "cell_type": "markdown",
   "metadata": {},
   "source": [
    "---\n",
    "### 2. Getting user input with `raw_input` [Source](https://python4kids.brendanscott.com/2010/07/01/interacting-with-raw_input/)\n",
    "* Storing the raw input as variable\n",
    "* Variable is always a string"
   ]
  },
  {
   "cell_type": "markdown",
   "metadata": {},
   "source": [
    "---\n",
    "### 3. Reading text files with `open` [Source](https://pythontips.com/2014/01/15/the-open-function-explained/)\n",
    "* Syntax\n",
    "* Open modes: read, write, append\n",
    "* The file object\n",
    "* Closing"
   ]
  },
  {
   "cell_type": "markdown",
   "metadata": {},
   "source": [
    "---\n",
    "### 4a. String Manipulation: String functions [Source](http://nbviewer.jupyter.org/github/env859/WhirlwindTourOfPython/blob/master/14-Strings-and-Regular-Expressions.ipynb#String-Manipulation-and-Regular-Expressions)\n",
    "* Multi-line strings with `'''` or `\"\"\"`\n",
    "* String functions for capitalization\n",
    "* String cleaning and formatting\n",
    "* Finding and replacing substrings\n",
    "* Splitting/parsing strings"
   ]
  },
  {
   "cell_type": "markdown",
   "metadata": {},
   "source": [
    "### 4b. String Manipulation: Formatting strings [Source](http://nbviewer.jupyter.org/github/env859/WhirlwindTourOfPython/blob/master/14-Strings-and-Regular-Expressions.ipynb#Format-Strings)\n",
    "* String arithmetic\n",
    "* The `format` function\n",
    "* The `%s` place holder"
   ]
  },
  {
   "cell_type": "markdown",
   "metadata": {},
   "source": [
    "### 4c. String Manipulation: Regular expressions [Source](http://nbviewer.jupyter.org/github/env859/WhirlwindTourOfPython/blob/master/14-Strings-and-Regular-Expressions.ipynb#Flexible-Pattern-Matching-with-Regular-Expressions)\n",
    "* What is a \"regular expression\"? (pattern matching)\n",
    "* Wildcards: `*`\n",
    "* The `re` module for advanced string splitting\n",
    "  * `compile` to set the search pattern\n",
    "  * Special characters"
   ]
  },
  {
   "cell_type": "markdown",
   "metadata": {},
   "source": [
    "---\n",
    "### 5. Defining and Using Functions ([pp 41 - 45](http://nbviewer.jupyter.org/github/env859/WhirlwindTourOfPython/blob/master/08-Defining-Functions.ipynb))\n",
    "* Using functions\n",
    "* Defining functions\n",
    "* Default arguments\n",
    "* Lambda functions"
   ]
  },
  {
   "cell_type": "markdown",
   "metadata": {},
   "source": [
    "5.1 Define a function called `"
   ]
  },
  {
   "cell_type": "markdown",
   "metadata": {},
   "source": [
    "---\n",
    "### 6. Errors and Exceptions ([pp 45 - 52](http://nbviewer.jupyter.org/github/env859/WhirlwindTourOfPython/blob/master/13-Modules-and-Packages.ipynb))\n",
    "* Types of errors\n",
    "* Using try: and except:\n",
    "* Raising exceptions"
   ]
  }
 ],
 "metadata": {
  "kernelspec": {
   "display_name": "Python 2",
   "language": "python",
   "name": "python2"
  },
  "language_info": {
   "codemirror_mode": {
    "name": "ipython",
    "version": 2
   },
   "file_extension": ".py",
   "mimetype": "text/x-python",
   "name": "python",
   "nbconvert_exporter": "python",
   "pygments_lexer": "ipython2",
   "version": "2.7.13"
  }
 },
 "nbformat": 4,
 "nbformat_minor": 2
}
