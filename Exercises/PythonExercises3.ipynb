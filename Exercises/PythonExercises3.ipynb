{
 "cells": [
  {
   "cell_type": "markdown",
   "metadata": {},
   "source": [
    "### Python Exercises - Session 3\n",
    "The exercises below are organized to match [A Whirlwind Tour of Python (VanderPlas)](http://www.oreilly.com/programming/free/files/a-whirlwind-tour-of-python.pdf). Specific pages are referenced in the various sections. These are designed to run using Python 2.7 but should also work in Python 3.5.\n",
    "\n",
    "Follow the guidelines below. Where necessary replace the ellipses (`...`) with the appropriate code in the code blocks, the run the code by pressing ctrl-enter. Be sure to save your document before closing. "
   ]
  },
  {
   "cell_type": "markdown",
   "metadata": {},
   "source": [
    "---\n",
    "### 1. Control Flow ([pp 37 - 41](http://nbviewer.jupyter.org/github/env859/WhirlwindTourOfPython/blob/master/07-Control-Flow-Statements.ipynb))\n",
    "* Conditional statements: if, elif, else\n",
    "* for loops\n",
    "* while loops\n",
    "* break and continue"
   ]
  },
  {
   "cell_type": "markdown",
   "metadata": {},
   "source": [
    "1.1 Write code that check whether the value of the `age` variable is less than 35, and if so prints the message \"`You can't run for president for X more years`\", with X being the difference between `age` and 35."
   ]
  },
  {
   "cell_type": "code",
   "execution_count": null,
   "metadata": {},
   "outputs": [],
   "source": [
    "age = 20\n",
    "if x ...:\n",
    "    x = 35 - age\n",
    "    print \"You can't run for president for \" + str(x) + \" more years\""
   ]
  },
  {
   "cell_type": "markdown",
   "metadata": {},
   "source": [
    "1.2 Write code that checks whether the `guess` provided is equal to 35. If `guess` is less than 35, print `Too low`. If it is greater than 35, print `Too high`. Otherwise, print `You got it!`."
   ]
  },
  {
   "cell_type": "code",
   "execution_count": null,
   "metadata": {},
   "outputs": [],
   "source": [
    "guess = 20\n",
    "if guess...\n",
    "    print \"Too low\"\n",
    "elif ...\n",
    "    print \"Too high\"\n",
    "else..."
   ]
  },
  {
   "cell_type": "markdown",
   "metadata": {},
   "source": [
    "1.3 Write code that creates the list of fruit and then prints each item individually using a `for` loop."
   ]
  },
  {
   "cell_type": "code",
   "execution_count": null,
   "metadata": {},
   "outputs": [],
   "source": [
    "fruitList = [\"apples\",\"cherries\",\"grapes\",\"bananas\"]\n",
    "for ...:\n",
    "    print fruit"
   ]
  },
  {
   "cell_type": "markdown",
   "metadata": {},
   "source": [
    "1.4 Write code that combines a `for` loop with the `range()` function to print *even* numbers 200 thru 220."
   ]
  },
  {
   "cell_type": "code",
   "execution_count": null,
   "metadata": {},
   "outputs": [],
   "source": [
    "for i in range(...):\n",
    "    print i"
   ]
  },
  {
   "cell_type": "markdown",
   "metadata": {},
   "source": [
    "1.5 Write a `while` loop that counts backwards from `startNumber` (10) and stops *after* reaching the value of `stopNumber` (3). At each iteration, print the value of the startNumber"
   ]
  },
  {
   "cell_type": "code",
   "execution_count": null,
   "metadata": {},
   "outputs": [],
   "source": [
    "startNumber = 10\n",
    "stopNumber = 3\n",
    "while startNumber...\n",
    "    print(startNumber)\n",
    "    #Be sure to change the value of the startNumber!\n",
    "    startNumber..."
   ]
  },
  {
   "cell_type": "markdown",
   "metadata": {},
   "source": [
    "---\n",
    "### 2. Getting user input with `raw_input` [Source](https://python4kids.brendanscott.com/2010/07/01/interacting-with-raw_input/)\n",
    "* Storing the raw input as variable\n",
    "* Variable is always a string"
   ]
  },
  {
   "cell_type": "markdown",
   "metadata": {},
   "source": [
    "Use the `raw_input()` function to ask the user to `\"Type a number between 1 and 10\"`, saving the output as the variable `userNumber`"
   ]
  },
  {
   "cell_type": "code",
   "execution_count": null,
   "metadata": {},
   "outputs": [],
   "source": [
    "userNumber = raw_input(\"Type ...\")"
   ]
  },
  {
   "cell_type": "markdown",
   "metadata": {},
   "source": [
    "What is the `type` of the `userNumber` variable created?"
   ]
  },
  {
   "cell_type": "code",
   "execution_count": null,
   "metadata": {
    "collapsed": true
   },
   "outputs": [],
   "source": [
    "..."
   ]
  },
  {
   "cell_type": "markdown",
   "metadata": {},
   "source": [
    "Convert the userNumber to an integer."
   ]
  },
  {
   "cell_type": "code",
   "execution_count": null,
   "metadata": {
    "collapsed": true
   },
   "outputs": [],
   "source": [
    "userNumber = ...(userNumber)"
   ]
  },
  {
   "cell_type": "markdown",
   "metadata": {},
   "source": [
    "---\n",
    "### 3. Reading text files with `open` [Source](https://pythontips.com/2014/01/15/the-open-function-explained/)\n",
    "* Syntax\n",
    "* Open modes: read, write, append\n",
    "* The file object\n",
    "* Closing"
   ]
  },
  {
   "cell_type": "markdown",
   "metadata": {},
   "source": [
    "The text file `DLY_2017ncQ1.csv` found in the same folder as this IPython notebook contains EPA Air Market Program Data for 2017 (Q1) for North Carolina. Use the `open()` function to read this data into a file object named `dataFile`."
   ]
  },
  {
   "cell_type": "code",
   "execution_count": null,
   "metadata": {
    "collapsed": true
   },
   "outputs": [],
   "source": [
    "fileURL = \"DLY_2017ncQ1.csv\"\n",
    "dataFile = open(...)"
   ]
  },
  {
   "cell_type": "markdown",
   "metadata": {},
   "source": [
    "Use the `readlines()` function to read all the lines of this file into a variable called `dataLines`."
   ]
  },
  {
   "cell_type": "code",
   "execution_count": null,
   "metadata": {
    "collapsed": true
   },
   "outputs": [],
   "source": [
    "dataLines = dataFile..."
   ]
  },
  {
   "cell_type": "markdown",
   "metadata": {},
   "source": [
    "Now that we have extracted the data from the file object into a local variable, close the dataFile with the `close()` function."
   ]
  },
  {
   "cell_type": "code",
   "execution_count": null,
   "metadata": {
    "collapsed": true
   },
   "outputs": [],
   "source": [
    "dataFile..."
   ]
  },
  {
   "cell_type": "markdown",
   "metadata": {},
   "source": [
    "What type of object is the `dataLines` variable?"
   ]
  },
  {
   "cell_type": "code",
   "execution_count": null,
   "metadata": {},
   "outputs": [],
   "source": [
    "type(...)"
   ]
  },
  {
   "cell_type": "markdown",
   "metadata": {},
   "source": [
    "How many records (i.e., lines) are included in the `dataLines` object?"
   ]
  },
  {
   "cell_type": "code",
   "execution_count": null,
   "metadata": {},
   "outputs": [],
   "source": [
    "...(dataLines)"
   ]
  },
  {
   "cell_type": "markdown",
   "metadata": {},
   "source": [
    "Print the contents of the first line, i.e., the headers line, in the `dataLines` object."
   ]
  },
  {
   "cell_type": "code",
   "execution_count": null,
   "metadata": {},
   "outputs": [],
   "source": [
    "print(dataLines[...])"
   ]
  },
  {
   "cell_type": "markdown",
   "metadata": {},
   "source": [
    "Set the 30th line of the dataset (i.e., the 29th record) to a variable named `row29` and print it"
   ]
  },
  {
   "cell_type": "code",
   "execution_count": null,
   "metadata": {},
   "outputs": [],
   "source": [
    "row29 = dataLines[...]\n",
    "print(row29)"
   ]
  },
  {
   "cell_type": "markdown",
   "metadata": {},
   "source": [
    "What is the type of the `dataLines` variable?"
   ]
  },
  {
   "cell_type": "code",
   "execution_count": null,
   "metadata": {},
   "outputs": [],
   "source": [
    "type(...)"
   ]
  },
  {
   "cell_type": "markdown",
   "metadata": {},
   "source": [
    "---\n",
    "### 4a. String Manipulation: String functions [Source](http://nbviewer.jupyter.org/github/env859/WhirlwindTourOfPython/blob/master/14-Strings-and-Regular-Expressions.ipynb#String-Manipulation-and-Regular-Expressions)\n",
    "* Multi-line strings with `'''` or `\"\"\"`\n",
    "* String functions for capitalization\n",
    "* String cleaning and formatting\n",
    "* Finding and replacing substrings\n",
    "* Splitting/parsing strings"
   ]
  },
  {
   "cell_type": "markdown",
   "metadata": {},
   "source": [
    "Create a multi line string using a set of three quotation marks to print the Nicholas School's address:<br>\n",
    "`9 Circuit Drive`<br>\n",
    "`Durham, NC 27708`"
   ]
  },
  {
   "cell_type": "code",
   "execution_count": null,
   "metadata": {
    "collapsed": true
   },
   "outputs": [],
   "source": [
    "print '''...'''"
   ]
  },
  {
   "cell_type": "markdown",
   "metadata": {},
   "source": [
    "Run the command below to set the variable `row30` to the string and print its contents."
   ]
  },
  {
   "cell_type": "code",
   "execution_count": null,
   "metadata": {
    "collapsed": true
   },
   "outputs": [],
   "source": [
    "row30 = '\"NC\",\"Butler-Warner Generation Plant\",\"1016\",\"GT-1\",\"01-31-2017\",\"0\",\"0\",\"\",\"\",\"\",\"\",\"\",\"\",\"\",\"\",\"\",\"7405\",\"9622\"\\n'\n",
    "print(row30)"
   ]
  },
  {
   "cell_type": "markdown",
   "metadata": {},
   "source": [
    "Use `strip` function to update the `row30` variable so that the line feed (`\\n`) at the end is removed. Print the `row30` variable again to make sure it has been updated. "
   ]
  },
  {
   "cell_type": "code",
   "execution_count": null,
   "metadata": {},
   "outputs": [],
   "source": [
    "row30 = ....strip(...)\n",
    "print(row30)"
   ]
  },
  {
   "cell_type": "markdown",
   "metadata": {},
   "source": [
    "Extract the date object, which spans from character 53 to 62, from the string into a variable called `recDate`. "
   ]
  },
  {
   "cell_type": "code",
   "execution_count": null,
   "metadata": {
    "collapsed": true
   },
   "outputs": [],
   "source": [
    "recDate = row30[...]\n",
    "print(recDate)"
   ]
  },
  {
   "cell_type": "markdown",
   "metadata": {},
   "source": [
    "Use the `split()` function to parse the contents of the `row30` string into a list object named `listItems`. Then print the 5th item in this list."
   ]
  },
  {
   "cell_type": "code",
   "execution_count": null,
   "metadata": {},
   "outputs": [],
   "source": [
    "listItems = ....split(...)\n",
    "print listItems[4]"
   ]
  },
  {
   "cell_type": "markdown",
   "metadata": {},
   "source": [
    "### 4b. String Manipulation: Formatting strings [Source](http://nbviewer.jupyter.org/github/env859/WhirlwindTourOfPython/blob/master/14-Strings-and-Regular-Expressions.ipynb#Format-Strings)\n",
    "* String arithmetic\n",
    "* The `format` function\n",
    "* The `%s` place holder"
   ]
  },
  {
   "cell_type": "markdown",
   "metadata": {},
   "source": [
    "Set the `myName` and `myZipcode` variables to your name and zipcode, repsectively"
   ]
  },
  {
   "cell_type": "code",
   "execution_count": null,
   "metadata": {
    "collapsed": true
   },
   "outputs": [],
   "source": [
    "myName = ...\n",
    "myZipcode = ..."
   ]
  },
  {
   "cell_type": "markdown",
   "metadata": {},
   "source": [
    "Print the following string with the variables above by concatenating the variables:<br>\n",
    "`My name is <your name>. My zip is <yourZip>.`"
   ]
  },
  {
   "cell_type": "code",
   "execution_count": null,
   "metadata": {},
   "outputs": [],
   "source": [
    "print \"My name is \" + ... + \". My zip is \" + str(...)"
   ]
  },
  {
   "cell_type": "markdown",
   "metadata": {},
   "source": [
    "Print the same string, using the `format()` function."
   ]
  },
  {
   "cell_type": "code",
   "execution_count": null,
   "metadata": {},
   "outputs": [],
   "source": [
    "print \"My name is {}. My zip is ...\".format(...,myZipcode)"
   ]
  }
 ],
 "metadata": {
  "kernelspec": {
   "display_name": "Python 2",
   "language": "python",
   "name": "python2"
  },
  "language_info": {
   "codemirror_mode": {
    "name": "ipython",
    "version": 2
   },
   "file_extension": ".py",
   "mimetype": "text/x-python",
   "name": "python",
   "nbconvert_exporter": "python",
   "pygments_lexer": "ipython2",
   "version": "2.7.13"
  }
 },
 "nbformat": 4,
 "nbformat_minor": 2
}
