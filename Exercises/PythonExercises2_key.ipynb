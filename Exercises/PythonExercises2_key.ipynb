{
 "cells": [
  {
   "cell_type": "markdown",
   "metadata": {},
   "source": [
    "## Python Exercises - Session 2\n",
    "The exercises below are organized to match [A Whirlwind Tour of Python (VanderPlas)](http://www.oreilly.com/programming/free/files/a-whirlwind-tour-of-python.pdf). Specific pages are referenced in the various sections. These are designed to run using Python 2.7 but should also work in Python 3.5.\n",
    "\n",
    "Follow the guidelines below. Where necessary replace the ellipses (`...`) with the appropriate code in the code blocks, the run the code by pressing ctrl-enter. Be sure to save your document before closing. "
   ]
  },
  {
   "cell_type": "markdown",
   "metadata": {},
   "source": [
    "---\n",
    "### 5. Built in Data Structure  ([pp 30 - 37](http://nbviewer.jupyter.org/github/env859/WhirlwindTourOfPython/blob/master/06-Built-in-Data-Structures.ipynb))\n",
    "* Lists\n",
    "* Tuples\n",
    "* Dictionaries\n",
    "* Sets"
   ]
  },
  {
   "cell_type": "markdown",
   "metadata": {},
   "source": [
    "#### 5.1 Lists"
   ]
  },
  {
   "cell_type": "markdown",
   "metadata": {},
   "source": [
    "5.1.a Create a _list_ variable named `myRasters` containing the following 3 strings: `DEM`, `slope`, `aspect`, and then print the contents of the list"
   ]
  },
  {
   "cell_type": "code",
   "execution_count": 1,
   "metadata": {},
   "outputs": [
    {
     "name": "stdout",
     "output_type": "stream",
     "text": [
      "['DEM', 'slopes', 'aspect']\n"
     ]
    }
   ],
   "source": [
    "myRasters = [\"DEM\",\"slopes\",\"aspect\"]\n",
    "print(myRasters)"
   ]
  },
  {
   "cell_type": "markdown",
   "metadata": {},
   "source": [
    "5.1.b Use the `len` function on the `myRasters` list object to reveal how many items on the list"
   ]
  },
  {
   "cell_type": "code",
   "execution_count": 2,
   "metadata": {},
   "outputs": [
    {
     "data": {
      "text/plain": [
       "3"
      ]
     },
     "execution_count": 2,
     "metadata": {},
     "output_type": "execute_result"
    }
   ],
   "source": [
    "len(myRasters)"
   ]
  },
  {
   "cell_type": "markdown",
   "metadata": {},
   "source": [
    "5.1.c Update `myRasters` list to include a new item, the string `hillshade`, and then print the contents of the list. (*Tip: use the tab-completion feature to see all the methods associated with the `myRasters` object; just hit the tab key after the period following myRasters...*)"
   ]
  },
  {
   "cell_type": "code",
   "execution_count": 3,
   "metadata": {},
   "outputs": [
    {
     "name": "stdout",
     "output_type": "stream",
     "text": [
      "['DEM', 'slopes', 'aspect', 'hillshade']\n"
     ]
    }
   ],
   "source": [
    "myRasters.append('hillshade')\n",
    "print(myRasters)"
   ]
  },
  {
   "cell_type": "markdown",
   "metadata": {},
   "source": [
    " 5.1.d Use the `sort` function to sort the myRasters list alphabetically and print the output."
   ]
  },
  {
   "cell_type": "code",
   "execution_count": 4,
   "metadata": {},
   "outputs": [
    {
     "name": "stdout",
     "output_type": "stream",
     "text": [
      "['DEM', 'aspect', 'hillshade', 'slopes']\n"
     ]
    }
   ],
   "source": [
    "myRasters.sort()\n",
    "print(myRasters)"
   ]
  },
  {
   "cell_type": "markdown",
   "metadata": {},
   "source": [
    "5.1.e Sort the myRasters list in reverse order and print the output, again using the sort function. *Tip: use tab-complete to reveal function parameters...*"
   ]
  },
  {
   "cell_type": "code",
   "execution_count": 5,
   "metadata": {},
   "outputs": [
    {
     "name": "stdout",
     "output_type": "stream",
     "text": [
      "['slopes', 'hillshade', 'aspect', 'DEM']\n"
     ]
    }
   ],
   "source": [
    "myRasters.sort(reverse=True)\n",
    "print(myRasters)"
   ]
  },
  {
   "cell_type": "markdown",
   "metadata": {},
   "source": [
    "5.1.f Remove `aspect` from the `myRasters` list."
   ]
  },
  {
   "cell_type": "code",
   "execution_count": 6,
   "metadata": {},
   "outputs": [
    {
     "name": "stdout",
     "output_type": "stream",
     "text": [
      "['slopes', 'hillshade', 'DEM']\n"
     ]
    }
   ],
   "source": [
    "myRasters.remove(\"aspect\")\n",
    "print(myRasters)"
   ]
  },
  {
   "cell_type": "markdown",
   "metadata": {},
   "source": [
    "5.1g. Use the `index` function to print the index value of the 'DEM' item in the `myRasters` list."
   ]
  },
  {
   "cell_type": "code",
   "execution_count": 7,
   "metadata": {},
   "outputs": [
    {
     "name": "stdout",
     "output_type": "stream",
     "text": [
      "2\n"
     ]
    }
   ],
   "source": [
    "print(myRasters.index('DEM'))"
   ]
  },
  {
   "cell_type": "markdown",
   "metadata": {},
   "source": [
    "5.1.h. Set the variable `theRaster` to the first item in the `myRasters` list and print the value of `theRaster`."
   ]
  },
  {
   "cell_type": "code",
   "execution_count": 8,
   "metadata": {},
   "outputs": [
    {
     "name": "stdout",
     "output_type": "stream",
     "text": [
      "slopes\n"
     ]
    }
   ],
   "source": [
    "theRaster = myRasters[0]\n",
    "print(theRaster)"
   ]
  },
  {
   "cell_type": "markdown",
   "metadata": {},
   "source": [
    "5.1.i. Print the last 2 items in the `myRasters` list"
   ]
  },
  {
   "cell_type": "code",
   "execution_count": 9,
   "metadata": {},
   "outputs": [
    {
     "name": "stdout",
     "output_type": "stream",
     "text": [
      "['hillshade', 'DEM']\n"
     ]
    }
   ],
   "source": [
    "print(myRasters[-2:])"
   ]
  },
  {
   "cell_type": "markdown",
   "metadata": {},
   "source": [
    "---\n",
    "#### 5.2 Tuples"
   ]
  },
  {
   "cell_type": "markdown",
   "metadata": {},
   "source": [
    "5.2.a Create a tuple named `myVectors` containing the following 3 strings: `rivers`, `rails`, `streets`, and then print the contents of the tuple."
   ]
  },
  {
   "cell_type": "code",
   "execution_count": 10,
   "metadata": {
    "collapsed": true
   },
   "outputs": [],
   "source": [
    "myVectors = (\"rivers\", \"rails\", \"streets\")"
   ]
  },
  {
   "cell_type": "markdown",
   "metadata": {},
   "source": [
    "5.2.b Print the 3rd element in the `myVectors` tuple."
   ]
  },
  {
   "cell_type": "code",
   "execution_count": 11,
   "metadata": {},
   "outputs": [
    {
     "name": "stdout",
     "output_type": "stream",
     "text": [
      "streets\n"
     ]
    }
   ],
   "source": [
    "print(myVectors[2])"
   ]
  },
  {
   "cell_type": "markdown",
   "metadata": {},
   "source": [
    "5.2.c Create a second tuple named `myOtherVectors`, holding the strings `trails` and `bike paths`."
   ]
  },
  {
   "cell_type": "code",
   "execution_count": 12,
   "metadata": {
    "collapsed": true
   },
   "outputs": [],
   "source": [
    "myOtherVectors = 'trails','bikes'"
   ]
  },
  {
   "cell_type": "markdown",
   "metadata": {},
   "source": [
    "5.2.d Update the `myVectors` tuple so that it also included the elements in the `myOtherVectors` tuple and print the results."
   ]
  },
  {
   "cell_type": "code",
   "execution_count": 13,
   "metadata": {},
   "outputs": [
    {
     "name": "stdout",
     "output_type": "stream",
     "text": [
      "('rivers', 'rails', 'streets', 'trails', 'bikes')\n"
     ]
    }
   ],
   "source": [
    "myVectors = myVectors + myOtherVectors\n",
    "print myVectors"
   ]
  },
  {
   "cell_type": "markdown",
   "metadata": {},
   "source": [
    "---\n",
    "#### 5.3 Dictionaries"
   ]
  },
  {
   "cell_type": "markdown",
   "metadata": {},
   "source": [
    "5.3.1 Run the following to generate a dictionary called `inventory`"
   ]
  },
  {
   "cell_type": "code",
   "execution_count": 14,
   "metadata": {
    "collapsed": true
   },
   "outputs": [],
   "source": [
    "inventory = {\n",
    "    'gold' : 500,\n",
    "    'pouch' : ['flint', 'twine', 'gemstone'],\n",
    "    'backpack' : ['xylophone','dagger', 'bedroll','bread loaf']\n",
    "}"
   ]
  },
  {
   "cell_type": "markdown",
   "metadata": {},
   "source": [
    "5.3.2 Write a line of code to print the value corresponding to the `pouch` key. "
   ]
  },
  {
   "cell_type": "code",
   "execution_count": 15,
   "metadata": {},
   "outputs": [
    {
     "name": "stdout",
     "output_type": "stream",
     "text": [
      "['flint', 'twine', 'gemstone']\n"
     ]
    }
   ],
   "source": [
    "print inventory['pouch']"
   ]
  },
  {
   "cell_type": "markdown",
   "metadata": {},
   "source": [
    "5.3.3 Add a new item to the dictionary. Set it's **key** to `clothes` and it's **value** to a list containing these three items: `hat`,`tunic`,`boots`"
   ]
  },
  {
   "cell_type": "code",
   "execution_count": 16,
   "metadata": {
    "collapsed": true
   },
   "outputs": [],
   "source": [
    "inventory['clothes'] = [\"hat\",\"tunic\",\"boots\"]"
   ]
  },
  {
   "cell_type": "markdown",
   "metadata": {},
   "source": [
    "5.3.4 Print all the keys in the `inventory` dictionary"
   ]
  },
  {
   "cell_type": "code",
   "execution_count": 17,
   "metadata": {},
   "outputs": [
    {
     "name": "stdout",
     "output_type": "stream",
     "text": [
      "['backpack', 'pouch', 'gold', 'clothes']\n"
     ]
    }
   ],
   "source": [
    "print inventory.keys()"
   ]
  },
  {
   "cell_type": "markdown",
   "metadata": {},
   "source": [
    "5.3.5 Print all the values in the `inventory` dictionary"
   ]
  },
  {
   "cell_type": "code",
   "execution_count": 18,
   "metadata": {},
   "outputs": [
    {
     "name": "stdout",
     "output_type": "stream",
     "text": [
      "[['xylophone', 'dagger', 'bedroll', 'bread loaf'], ['flint', 'twine', 'gemstone'], 500, ['hat', 'tunic', 'boots']]\n"
     ]
    }
   ],
   "source": [
    "print inventory.values()"
   ]
  },
  {
   "cell_type": "markdown",
   "metadata": {},
   "source": [
    "5.3.5 Print all the items in the `inventory` dictionary"
   ]
  },
  {
   "cell_type": "code",
   "execution_count": 19,
   "metadata": {},
   "outputs": [
    {
     "name": "stdout",
     "output_type": "stream",
     "text": [
      "[('backpack', ['xylophone', 'dagger', 'bedroll', 'bread loaf']), ('pouch', ['flint', 'twine', 'gemstone']), ('gold', 500), ('clothes', ['hat', 'tunic', 'boots'])]\n"
     ]
    }
   ],
   "source": [
    "print inventory.items()"
   ]
  },
  {
   "cell_type": "markdown",
   "metadata": {},
   "source": [
    "5.3.6 Print the 3rd item in the collection of inventory items"
   ]
  },
  {
   "cell_type": "code",
   "execution_count": 20,
   "metadata": {},
   "outputs": [
    {
     "name": "stdout",
     "output_type": "stream",
     "text": [
      "('gold', 500)\n"
     ]
    }
   ],
   "source": [
    "print inventory.items()[2]"
   ]
  },
  {
   "cell_type": "markdown",
   "metadata": {},
   "source": [
    "---\n",
    "#### 5.4 Sets"
   ]
  },
  {
   "cell_type": "markdown",
   "metadata": {
    "collapsed": true
   },
   "source": [
    "5.4.1 Create a set variable named `redFruit` with members `strawberry`, `apple`, `plum`, and `raspberry`. Then, print the set. "
   ]
  },
  {
   "cell_type": "code",
   "execution_count": 21,
   "metadata": {},
   "outputs": [
    {
     "name": "stdout",
     "output_type": "stream",
     "text": [
      "set(['strawberry', 'plum', 'raspberry', 'apple'])\n"
     ]
    }
   ],
   "source": [
    "redFruit = {\"strawberry\", \"apple\", \"plum\", \"raspberry\"}\n",
    "print(redFruit)"
   ]
  },
  {
   "cell_type": "markdown",
   "metadata": {},
   "source": [
    "5.4.2 Add `tomato` to the `redFruit` list, and print the set's contents."
   ]
  },
  {
   "cell_type": "code",
   "execution_count": 22,
   "metadata": {},
   "outputs": [
    {
     "name": "stdout",
     "output_type": "stream",
     "text": [
      "set(['tomato', 'strawberry', 'plum', 'raspberry', 'apple'])\n"
     ]
    }
   ],
   "source": [
    "redFruit.add(\"tomato\")\n",
    "print(redFruit)"
   ]
  },
  {
   "cell_type": "markdown",
   "metadata": {},
   "source": [
    "5.4.3 Add another instance of `tomato` to the set and print its contents."
   ]
  },
  {
   "cell_type": "code",
   "execution_count": 23,
   "metadata": {},
   "outputs": [
    {
     "name": "stdout",
     "output_type": "stream",
     "text": [
      "set(['tomato', 'strawberry', 'plum', 'raspberry', 'apple'])\n"
     ]
    }
   ],
   "source": [
    "redFruit.add(\"tomato\")\n",
    "print(redFruit)"
   ]
  },
  {
   "cell_type": "markdown",
   "metadata": {},
   "source": [
    "5.4.4. Create a set called `pittedFruit` with members `peach`, `plum`, `nectarine`, and `avocado`."
   ]
  },
  {
   "cell_type": "code",
   "execution_count": 24,
   "metadata": {
    "collapsed": true
   },
   "outputs": [],
   "source": [
    "pittedFruit = {\"peach\", \"plum\", \"nectarine\", \"avocado\"}"
   ]
  },
  {
   "cell_type": "markdown",
   "metadata": {},
   "source": [
    "5.4.5. Print the intersection of the `redFruit` and `pittedFruit` sets."
   ]
  },
  {
   "cell_type": "code",
   "execution_count": 25,
   "metadata": {},
   "outputs": [
    {
     "name": "stdout",
     "output_type": "stream",
     "text": [
      "set(['plum'])\n"
     ]
    }
   ],
   "source": [
    "print(redFruit.intersection(pittedFruit))"
   ]
  },
  {
   "cell_type": "markdown",
   "metadata": {},
   "source": [
    "5.4.5. Print the symmetic difference of the two sets"
   ]
  },
  {
   "cell_type": "code",
   "execution_count": 26,
   "metadata": {},
   "outputs": [
    {
     "name": "stdout",
     "output_type": "stream",
     "text": [
      "set(['tomato', 'nectarine', 'peach', 'avocado', 'strawberry', 'raspberry', 'apple'])\n"
     ]
    }
   ],
   "source": [
    "print(redFruit.symmetric_difference(pittedFruit))"
   ]
  }
 ],
 "metadata": {
  "kernelspec": {
   "display_name": "Python 2",
   "language": "python",
   "name": "python2"
  },
  "language_info": {
   "codemirror_mode": {
    "name": "ipython",
    "version": 2
   },
   "file_extension": ".py",
   "mimetype": "text/x-python",
   "name": "python",
   "nbconvert_exporter": "python",
   "pygments_lexer": "ipython2",
   "version": "2.7.13"
  }
 },
 "nbformat": 4,
 "nbformat_minor": 2
}
